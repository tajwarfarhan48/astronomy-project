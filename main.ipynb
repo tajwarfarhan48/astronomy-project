{
 "cells": [
  {
   "cell_type": "markdown",
   "metadata": {},
   "source": [
    "# Importing modules"
   ]
  },
  {
   "cell_type": "code",
   "execution_count": 1,
   "metadata": {},
   "outputs": [],
   "source": [
    "import pandas as pd\n",
    "import torch\n",
    "from sklearn.model_selection import train_test_split\n",
    "from nca_implementation.torchnca import nca"
   ]
  },
  {
   "cell_type": "markdown",
   "metadata": {},
   "source": [
    "# Loading data"
   ]
  },
  {
   "cell_type": "code",
   "execution_count": 2,
   "metadata": {},
   "outputs": [],
   "source": [
    "# Read pickles\n",
    "df_m67 = pd.read_pickle('./data/oc_Messier_67_candidates.pickle')\n",
    "df_m44 = pd.read_pickle('./data/oc_Messier_44_candidates.pickle')\n",
    "\n",
    "# Filter based on fidelity_v2 >= 0.7\n",
    "df_m67 = df_m67[df_m67['fidelity_v2'] >= 0.7]\n",
    "df_m44 = df_m44[df_m44['fidelity_v2'] >= 0.7]\n",
    "\n",
    "# Select only relevant columns\n",
    "SELECTED_COLS = ['ra', 'dec', 'pmra', 'pmdec', 'r_med_geo', 'fidelity_v2', 'cluster_flag'] \n",
    "df_m67 = df_m67[SELECTED_COLS]\n",
    "df_m44 = df_m44[SELECTED_COLS]\n",
    "\n",
    "# Set cluster candidate information\n",
    "\"\"\"\n",
    "0 - M67_NOCLUSTER\n",
    "1 - M67_CLUSTER\n",
    "2 - M44_NOCLUSTER\n",
    "3 - M44_CLUSTER\n",
    "\"\"\"\n",
    "df_m67.loc[df_m67.cluster_flag == 0, 'cluster_flag'] = 0\n",
    "df_m67.loc[df_m67.cluster_flag == 1, 'cluster_flag'] = 1\n",
    "\n",
    "df_m44.loc[df_m44.cluster_flag == 0, 'cluster_flag'] = 2\n",
    "df_m44.loc[df_m44.cluster_flag == 1, 'cluster_flag'] = 3\n",
    "\n",
    "# Join the data\n",
    "df = pd.concat([df_m67, df_m44])"
   ]
  },
  {
   "cell_type": "code",
   "execution_count": 3,
   "metadata": {},
   "outputs": [
    {
     "name": "stdout",
     "output_type": "stream",
     "text": [
      "-------- COLUMN INFORMATION --------\n",
      "<class 'pandas.core.frame.DataFrame'>\n",
      "Index: 171955 entries, 1 to 110831\n",
      "Data columns (total 7 columns):\n",
      " #   Column        Non-Null Count   Dtype  \n",
      "---  ------        --------------   -----  \n",
      " 0   ra            171955 non-null  float64\n",
      " 1   dec           171955 non-null  float64\n",
      " 2   pmra          171955 non-null  float64\n",
      " 3   pmdec         171955 non-null  float64\n",
      " 4   r_med_geo     171955 non-null  float32\n",
      " 5   fidelity_v2   171955 non-null  float32\n",
      " 6   cluster_flag  171955 non-null  int64  \n",
      "dtypes: float32(2), float64(4), int64(1)\n",
      "memory usage: 9.2 MB\n"
     ]
    }
   ],
   "source": [
    "print(\"-------- COLUMN INFORMATION --------\")\n",
    "df.info()"
   ]
  },
  {
   "cell_type": "code",
   "execution_count": 4,
   "metadata": {},
   "outputs": [
    {
     "name": "stdout",
     "output_type": "stream",
     "text": [
      "-------- CLUSTER CANDIDATE INFORMATION --------\n",
      "cluster_flag\n",
      "0    87711\n",
      "2    83565\n",
      "3      679\n",
      "Name: count, dtype: int64\n"
     ]
    }
   ],
   "source": [
    "print(\"-------- CLUSTER CANDIDATE INFORMATION --------\")\n",
    "print(df['cluster_flag'].value_counts())"
   ]
  },
  {
   "cell_type": "markdown",
   "metadata": {},
   "source": [
    "# Train-test split"
   ]
  },
  {
   "cell_type": "code",
   "execution_count": 5,
   "metadata": {},
   "outputs": [],
   "source": [
    "# Splitting into features (X) and labels (y)\n",
    "X = torch.tensor(df.drop(labels='cluster_flag', axis=1).values, dtype=torch.float)\n",
    "y = torch.tensor(df['cluster_flag'].copy().values)\n",
    "\n",
    "# Stratified Train-test split (based on labels)\n",
    "X_train, X_test, y_train, y_test = train_test_split(X, y, stratify=y, test_size=0.2, random_state=42)"
   ]
  },
  {
   "cell_type": "code",
   "execution_count": 6,
   "metadata": {},
   "outputs": [
    {
     "name": "stdout",
     "output_type": "stream",
     "text": [
      "torch.Size([137564, 6]) torch.Size([137564]) torch.Size([34391, 6]) torch.Size([34391])\n"
     ]
    }
   ],
   "source": [
    "print(X_train.shape, y_train.shape, X_test.shape, y_test.shape)"
   ]
  },
  {
   "cell_type": "code",
   "execution_count": 7,
   "metadata": {},
   "outputs": [
    {
     "name": "stdout",
     "output_type": "stream",
     "text": [
      "-------- TRAIN DATASET LABEL PERCENTAGES --------\n",
      "0: 51.0083%\n",
      "2: 48.5970%\n",
      "3: 0.3947%\n",
      "Total Samples: 137564\n",
      "\n",
      "-------- TEST DATASET LABEL PERCENTAGES --------\n",
      "0: 51.0075%\n",
      "2: 48.5970%\n",
      "3: 0.3955%\n",
      "Total Samples: 34391\n"
     ]
    }
   ],
   "source": [
    "print(\"-------- TRAIN DATASET LABEL PERCENTAGES --------\")\n",
    "y_train_uniques, y_train_unique_counts = y_train.unique(return_counts=True)\n",
    "y_train_total = torch.sum(y_train_unique_counts).item()\n",
    "\n",
    "for item, count in zip(y_train_uniques, y_train_unique_counts):\n",
    "    print(f\"{item}: {(count / y_train_total) * 100:.4f}%\")\n",
    "\n",
    "print(\"Total Samples: \" + str(y_train_total))\n",
    "\n",
    "print()\n",
    "\n",
    "print(\"-------- TEST DATASET LABEL PERCENTAGES --------\")\n",
    "y_test_uniques, y_test_unique_counts = y_test.unique(return_counts=True)\n",
    "y_test_total = torch.sum(y_test_unique_counts).item()\n",
    "\n",
    "for item, count in zip(y_test_uniques, y_test_unique_counts):\n",
    "    print(f\"{item}: {(count / y_test_total) * 100:.4f}%\")\n",
    "\n",
    "print(\"Total Samples: \" + str(y_test_total))"
   ]
  },
  {
   "cell_type": "code",
   "execution_count": 8,
   "metadata": {},
   "outputs": [
    {
     "name": "stdout",
     "output_type": "stream",
     "text": [
      "using random init\n"
     ]
    },
    {
     "ename": "",
     "evalue": "",
     "output_type": "error",
     "traceback": [
      "\u001b[1;31mThe Kernel crashed while executing code in the current cell or a previous cell. \n",
      "\u001b[1;31mPlease review the code in the cell(s) to identify a possible cause of the failure. \n",
      "\u001b[1;31mClick <a href='https://aka.ms/vscodeJupyterKernelCrash'>here</a> for more info. \n",
      "\u001b[1;31mView Jupyter <a href='command:jupyter.viewOutput'>log</a> for further details."
     ]
    }
   ],
   "source": [
    "nca_pipeline = nca.NCA(dim=2, max_iters=500)\n",
    "nca_pipeline.train(X_train, y_train)"
   ]
  },
  {
   "cell_type": "code",
   "execution_count": null,
   "metadata": {},
   "outputs": [],
   "source": []
  }
 ],
 "metadata": {
  "kernelspec": {
   "display_name": "astronomy-project",
   "language": "python",
   "name": "python3"
  },
  "language_info": {
   "codemirror_mode": {
    "name": "ipython",
    "version": 3
   },
   "file_extension": ".py",
   "mimetype": "text/x-python",
   "name": "python",
   "nbconvert_exporter": "python",
   "pygments_lexer": "ipython3",
   "version": "3.8.20"
  }
 },
 "nbformat": 4,
 "nbformat_minor": 2
}
