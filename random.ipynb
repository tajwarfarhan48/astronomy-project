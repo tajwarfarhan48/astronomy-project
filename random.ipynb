{
 "cells": [
  {
   "cell_type": "code",
   "execution_count": 2,
   "id": "8eb6f220",
   "metadata": {},
   "outputs": [],
   "source": [
    "import torch\n",
    "import numpy as np"
   ]
  },
  {
   "cell_type": "code",
   "execution_count": 6,
   "id": "843fbde9",
   "metadata": {},
   "outputs": [
    {
     "data": {
      "text/plain": [
       "tensor([[ 5.],\n",
       "        [ 0.],\n",
       "        [13.]])"
      ]
     },
     "execution_count": 6,
     "metadata": {},
     "output_type": "execute_result"
    }
   ],
   "source": [
    "A = torch.tensor([[3, 4], [0, 0], [5, 12]], dtype=torch.float32)\n",
    "torch.norm(A, p=2, dim=1)[:, None]"
   ]
  },
  {
   "cell_type": "code",
   "execution_count": 39,
   "id": "1b41d38c",
   "metadata": {},
   "outputs": [
    {
     "name": "stdout",
     "output_type": "stream",
     "text": [
      "tensor([[0, 0, 0, 0, 0, 0, 0],\n",
      "        [1, 1, 1, 1, 1, 1, 1],\n",
      "        [2, 2, 2, 2, 2, 2, 2]])\n",
      "tensor([[0, 1, 2, 3, 4, 5, 6],\n",
      "        [0, 1, 2, 3, 4, 5, 6],\n",
      "        [0, 1, 2, 3, 4, 5, 6]])\n",
      "tensor([[ True, False, False, False, False, False, False],\n",
      "        [False,  True, False, False, False, False, False],\n",
      "        [False, False,  True, False, False, False, False]])\n"
     ]
    }
   ],
   "source": [
    "def pairwise_l2_sq(x, y):\n",
    "    dot = torch.mm(x.double(), torch.t(y.double()))\n",
    "    left_norms = torch.pow(torch.norm(x, p=2, dim=1), 2)[:, None]\n",
    "    right_norms = torch.pow(torch.norm(y, p=2, dim=1), 2)[None, :]\n",
    "    dist = left_norms - 2 * dot + right_norms\n",
    "    dist = torch.clamp(dist, min=0)\n",
    "    return dist.float()\n",
    "\n",
    "A = torch.tensor([[i, i+1] for i in range(137564)], dtype=torch.float32)\n",
    "\n",
    "mesh_x, mesh_y = torch.meshgrid(torch.arange(0, 3), torch.arange(7), indexing='ij')\n",
    "mask = mesh_x == mesh_y\n",
    "\n",
    "print(mesh_x)\n",
    "print(mesh_y)\n",
    "\n",
    "print(mask)"
   ]
  },
  {
   "cell_type": "code",
   "execution_count": null,
   "id": "cca3bb7b",
   "metadata": {},
   "outputs": [],
   "source": []
  }
 ],
 "metadata": {
  "kernelspec": {
   "display_name": "astronomy-project",
   "language": "python",
   "name": "python3"
  },
  "language_info": {
   "codemirror_mode": {
    "name": "ipython",
    "version": 3
   },
   "file_extension": ".py",
   "mimetype": "text/x-python",
   "name": "python",
   "nbconvert_exporter": "python",
   "pygments_lexer": "ipython3",
   "version": "3.8.20"
  }
 },
 "nbformat": 4,
 "nbformat_minor": 5
}
